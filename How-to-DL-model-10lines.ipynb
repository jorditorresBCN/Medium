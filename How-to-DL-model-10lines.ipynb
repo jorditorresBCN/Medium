{
  "nbformat": 4,
  "nbformat_minor": 0,
  "metadata": {
    "colab": {
      "name": "How to build a Deep Learning model in 10 lines.ipynb",
      "provenance": []
    },
    "kernelspec": {
      "name": "python3",
      "display_name": "Python 3"
    }
  },
  "cells": [
    {
      "cell_type": "markdown",
      "metadata": {
        "id": "Z7yWFaQsMGv6",
        "colab_type": "text"
      },
      "source": [
        "# How to build a Deep Learning model in 10 lines\n",
        "### A Guide to quickly immerse yourself in Deep Learning"
      ]
    },
    {
      "cell_type": "markdown",
      "metadata": {
        "id": "XNbbAi1HRzhB",
        "colab_type": "text"
      },
      "source": [
        "## 1. Cargar y preprocesar datos"
      ]
    },
    {
      "cell_type": "code",
      "metadata": {
        "id": "KmEUYmNERywJ",
        "colab_type": "code",
        "colab": {}
      },
      "source": [
        "import tensorflow as tf\n",
        "from tensorflow.keras.utils import to_categorical"
      ],
      "execution_count": 0,
      "outputs": []
    },
    {
      "cell_type": "code",
      "metadata": {
        "id": "I8_cNenDVPf3",
        "colab_type": "code",
        "colab": {}
      },
      "source": [
        "(x_train, y_train), _ = tf.keras.datasets.mnist.load_data()"
      ],
      "execution_count": 0,
      "outputs": []
    },
    {
      "cell_type": "code",
      "metadata": {
        "id": "pGKWYXcNVqRj",
        "colab_type": "code",
        "colab": {
          "base_uri": "https://localhost:8080/",
          "height": 220
        },
        "outputId": "602ac450-bf2b-4d36-d8aa-bf8a6aa330ca"
      },
      "source": [
        "import numpy as np\n",
        "import matplotlib.pyplot as plt\n",
        "fig = plt.figure(figsize=(25, 4))\n",
        "for idx in np.arange(20):\n",
        "   ax = fig.add_subplot(2, 20/2, idx+1, xticks=[], yticks=[])\n",
        "   ax.imshow(x_train[idx], cmap=plt.cm.binary)\n",
        "   ax.set_title(str(y_train[idx]))"
      ],
      "execution_count": 3,
      "outputs": [
        {
          "output_type": "display_data",
          "data": {
            "image/png": "[encoded data removed]",
            "text/plain": [
              "<Figure size 1800x288 with 20 Axes>"
            ]
          },
          "metadata": {
            "tags": []
          }
        }
      ]
    },
    {
      "cell_type": "code",
      "metadata": {
        "id": "LSKVjZuDuYMH",
        "colab_type": "code",
        "colab": {}
      },
      "source": [
        "x_train = x_train.reshape(60000, 784).astype('float32')/255"
      ],
      "execution_count": 0,
      "outputs": []
    },
    {
      "cell_type": "code",
      "metadata": {
        "id": "djceVvMcv3JQ",
        "colab_type": "code",
        "colab": {}
      },
      "source": [
        "y_train = to_categorical(y_train, num_classes=10)"
      ],
      "execution_count": 0,
      "outputs": []
    },
    {
      "cell_type": "markdown",
      "metadata": {
        "id": "IWlCjlzswXg9",
        "colab_type": "text"
      },
      "source": [
        "## 2. Define the model"
      ]
    },
    {
      "cell_type": "code",
      "metadata": {
        "id": "hgLi-meYwXr5",
        "colab_type": "code",
        "colab": {}
      },
      "source": [
        "model = tf.keras.Sequential()\n",
        "model.add(tf.keras.layers.Dense(10,activation='sigmoid', input_shape=(784,)))\n",
        "model.add(tf.keras.layers.Dense(10,activation='softmax'))"
      ],
      "execution_count": 0,
      "outputs": []
    },
    {
      "cell_type": "markdown",
      "metadata": {
        "id": "Ta1MWIoCG3r-",
        "colab_type": "text"
      },
      "source": [
        "## 3. Train the model"
      ]
    },
    {
      "cell_type": "code",
      "metadata": {
        "id": "xAijGjOqG30z",
        "colab_type": "code",
        "colab": {
          "base_uri": "https://localhost:8080/",
          "height": 34
        },
        "outputId": "d53addb0-21e9-4967-b4e9-fefa47c0cdc3"
      },
      "source": [
        "model.compile(loss=\"categorical_crossentropy\", optimizer=\"sgd\", metrics = ['accuracy'])\n",
        "model.fit(x_train, y_train, epochs=10, verbose=0)"
      ],
      "execution_count": 7,
      "outputs": [
        {
          "output_type": "execute_result",
          "data": {
            "text/plain": [
              "<tensorflow.python.keras.callbacks.History at 0x7f77a54dbfd0>"
            ]
          },
          "metadata": {
            "tags": []
          },
          "execution_count": 7
        }
      ]
    },
    {
      "cell_type": "markdown",
      "metadata": {
        "id": "6A6G8HnnLUrA",
        "colab_type": "text"
      },
      "source": [
        "## Using the model"
      ]
    },
    {
      "cell_type": "code",
      "metadata": {
        "id": "hPj1xfnFLU2E",
        "colab_type": "code",
        "colab": {}
      },
      "source": [
        "_, (x_test_, y_test_)= tf.keras.datasets.mnist.load_data()\n",
        "x_test = x_test_.reshape(10000, 784).astype('float32')/255\n",
        "y_test = to_categorical(y_test_, num_classes=10)"
      ],
      "execution_count": 0,
      "outputs": []
    },
    {
      "cell_type": "code",
      "metadata": {
        "id": "bPpv5AOeLwnE",
        "colab_type": "code",
        "colab": {
          "base_uri": "https://localhost:8080/",
          "height": 34
        },
        "outputId": "960b9b72-aeec-4a2d-c822-442b9b9cc6a5"
      },
      "source": [
        "test_loss, test_acc = model.evaluate(x_test, y_test)"
      ],
      "execution_count": 9,
      "outputs": [
        {
          "output_type": "stream",
          "text": [
            "313/313 [==============================] - 0s 1ms/step - loss: 0.4370 - accuracy: 0.8934\n"
          ],
          "name": "stdout"
        }
      ]
    },
    {
      "cell_type": "code",
      "metadata": {
        "id": "N59SzP2wMwoQ",
        "colab_type": "code",
        "colab": {
          "base_uri": "https://localhost:8080/",
          "height": 34
        },
        "outputId": "8065321e-fe43-43f3-8bef-6001e7275461"
      },
      "source": [
        "print('Test accuracy:', test_acc)"
      ],
      "execution_count": 10,
      "outputs": [
        {
          "output_type": "stream",
          "text": [
            "Test accuracy: 0.8934000134468079\n"
          ],
          "name": "stdout"
        }
      ]
    },
    {
      "cell_type": "code",
      "metadata": {
        "id": "cEVWaToeOBUG",
        "colab_type": "code",
        "colab": {
          "base_uri": "https://localhost:8080/",
          "height": 265
        },
        "outputId": "b139ec9d-0c07-459e-e43f-c0eb270a546e"
      },
      "source": [
        "image = 5\n",
        "_ = plt.imshow(x_test_[image], cmap=plt.cm.binary)"
      ],
      "execution_count": 11,
      "outputs": [
        {
          "output_type": "display_data",
          "data": {
            "image/png": "[encoded data removed]",
            "text/plain": [
              "<Figure size 432x288 with 1 Axes>"
            ]
          },
          "metadata": {
            "tags": [],
            "needs_background": "light"
          }
        }
      ]
    },
    {
      "cell_type": "code",
      "metadata": {
        "id": "uKdjKSusOtyF",
        "colab_type": "code",
        "colab": {
          "base_uri": "https://localhost:8080/",
          "height": 34
        },
        "outputId": "69d5857c-b6ff-415b-cdae-fea56f8cb0ac"
      },
      "source": [
        "import numpy as np\n",
        "\n",
        "prediction = model.predict(x_test)\n",
        "print(\"Model prediction: \", np.argmax(prediction[image]))"
      ],
      "execution_count": 12,
      "outputs": [
        {
          "output_type": "stream",
          "text": [
            "Model prediction:  1\n"
          ],
          "name": "stdout"
        }
      ]
    }
  ]
}